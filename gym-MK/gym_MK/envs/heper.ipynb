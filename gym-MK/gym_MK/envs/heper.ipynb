{
 "cells": [
  {
   "cell_type": "code",
   "execution_count": 1,
   "source": [
    "import numpy as np \n",
    "import pandas as pd\n"
   ],
   "outputs": [],
   "metadata": {}
  },
  {
   "cell_type": "code",
   "execution_count": 2,
   "source": [
    "df = pd.read_csv(\"/Users/andreferdinand/Desktop/MOPT/MK/gym-MK/gym_MK/envs/Products.csv\")"
   ],
   "outputs": [],
   "metadata": {}
  },
  {
   "cell_type": "code",
   "execution_count": 3,
   "source": [
    "df"
   ],
   "outputs": [
    {
     "output_type": "execute_result",
     "data": {
      "text/plain": [
       "   PRODUCT_ID PRODUCT  STORAGE  ENDPRODUCT  MIN PROCESS_00 PROCESS_01  \\\n",
       "0           0   DOUGH       30       False  100      BREAD       BUNS   \n",
       "1           1   BREAD       10        True   70        NaN        NaN   \n",
       "2           2    BUNS       10       False   70      BUNS1      BUNS2   \n",
       "3           3   BUNS1       10        True   10        NaN        NaN   \n",
       "4           4   BUNS2       10        True   10        NaN        NaN   \n",
       "5           5   BUNS3       10        True   10        NaN        NaN   \n",
       "\n",
       "  DEMAND_DIST DIST_PARA PROCESS_02  \n",
       "0         NaN       NaN        NaN  \n",
       "1      NORMAL  (1, 0.1)        NaN  \n",
       "2         NaN       NaN      BUNS3  \n",
       "3      NORMAL  (1, 0.1)        NaN  \n",
       "4      NORMAL  (1, 0.1)        NaN  \n",
       "5      NORMAL  (1, 0.1)        NaN  "
      ],
      "text/html": [
       "<div>\n",
       "<style scoped>\n",
       "    .dataframe tbody tr th:only-of-type {\n",
       "        vertical-align: middle;\n",
       "    }\n",
       "\n",
       "    .dataframe tbody tr th {\n",
       "        vertical-align: top;\n",
       "    }\n",
       "\n",
       "    .dataframe thead th {\n",
       "        text-align: right;\n",
       "    }\n",
       "</style>\n",
       "<table border=\"1\" class=\"dataframe\">\n",
       "  <thead>\n",
       "    <tr style=\"text-align: right;\">\n",
       "      <th></th>\n",
       "      <th>PRODUCT_ID</th>\n",
       "      <th>PRODUCT</th>\n",
       "      <th>STORAGE</th>\n",
       "      <th>ENDPRODUCT</th>\n",
       "      <th>MIN</th>\n",
       "      <th>PROCESS_00</th>\n",
       "      <th>PROCESS_01</th>\n",
       "      <th>DEMAND_DIST</th>\n",
       "      <th>DIST_PARA</th>\n",
       "      <th>PROCESS_02</th>\n",
       "    </tr>\n",
       "  </thead>\n",
       "  <tbody>\n",
       "    <tr>\n",
       "      <th>0</th>\n",
       "      <td>0</td>\n",
       "      <td>DOUGH</td>\n",
       "      <td>30</td>\n",
       "      <td>False</td>\n",
       "      <td>100</td>\n",
       "      <td>BREAD</td>\n",
       "      <td>BUNS</td>\n",
       "      <td>NaN</td>\n",
       "      <td>NaN</td>\n",
       "      <td>NaN</td>\n",
       "    </tr>\n",
       "    <tr>\n",
       "      <th>1</th>\n",
       "      <td>1</td>\n",
       "      <td>BREAD</td>\n",
       "      <td>10</td>\n",
       "      <td>True</td>\n",
       "      <td>70</td>\n",
       "      <td>NaN</td>\n",
       "      <td>NaN</td>\n",
       "      <td>NORMAL</td>\n",
       "      <td>(1, 0.1)</td>\n",
       "      <td>NaN</td>\n",
       "    </tr>\n",
       "    <tr>\n",
       "      <th>2</th>\n",
       "      <td>2</td>\n",
       "      <td>BUNS</td>\n",
       "      <td>10</td>\n",
       "      <td>False</td>\n",
       "      <td>70</td>\n",
       "      <td>BUNS1</td>\n",
       "      <td>BUNS2</td>\n",
       "      <td>NaN</td>\n",
       "      <td>NaN</td>\n",
       "      <td>BUNS3</td>\n",
       "    </tr>\n",
       "    <tr>\n",
       "      <th>3</th>\n",
       "      <td>3</td>\n",
       "      <td>BUNS1</td>\n",
       "      <td>10</td>\n",
       "      <td>True</td>\n",
       "      <td>10</td>\n",
       "      <td>NaN</td>\n",
       "      <td>NaN</td>\n",
       "      <td>NORMAL</td>\n",
       "      <td>(1, 0.1)</td>\n",
       "      <td>NaN</td>\n",
       "    </tr>\n",
       "    <tr>\n",
       "      <th>4</th>\n",
       "      <td>4</td>\n",
       "      <td>BUNS2</td>\n",
       "      <td>10</td>\n",
       "      <td>True</td>\n",
       "      <td>10</td>\n",
       "      <td>NaN</td>\n",
       "      <td>NaN</td>\n",
       "      <td>NORMAL</td>\n",
       "      <td>(1, 0.1)</td>\n",
       "      <td>NaN</td>\n",
       "    </tr>\n",
       "    <tr>\n",
       "      <th>5</th>\n",
       "      <td>5</td>\n",
       "      <td>BUNS3</td>\n",
       "      <td>10</td>\n",
       "      <td>True</td>\n",
       "      <td>10</td>\n",
       "      <td>NaN</td>\n",
       "      <td>NaN</td>\n",
       "      <td>NORMAL</td>\n",
       "      <td>(1, 0.1)</td>\n",
       "      <td>NaN</td>\n",
       "    </tr>\n",
       "  </tbody>\n",
       "</table>\n",
       "</div>"
      ]
     },
     "metadata": {},
     "execution_count": 3
    }
   ],
   "metadata": {}
  },
  {
   "cell_type": "code",
   "execution_count": 4,
   "source": [
    "from helper_stats import min_prod, state\n",
    "min_product = min_prod()\n",
    "game_state =state()"
   ],
   "outputs": [],
   "metadata": {}
  },
  {
   "cell_type": "code",
   "execution_count": 5,
   "source": [
    "game_state"
   ],
   "outputs": [
    {
     "output_type": "execute_result",
     "data": {
      "text/plain": [
       "<helper_stats.state at 0x7f8f0a52a0d0>"
      ]
     },
     "metadata": {},
     "execution_count": 5
    }
   ],
   "metadata": {}
  },
  {
   "cell_type": "code",
   "execution_count": 6,
   "source": [
    "from MK_env2 import MKEnv"
   ],
   "outputs": [],
   "metadata": {}
  },
  {
   "cell_type": "code",
   "execution_count": 7,
   "source": [
    "game = MKEnv()"
   ],
   "outputs": [],
   "metadata": {}
  },
  {
   "cell_type": "code",
   "execution_count": 8,
   "source": [
    "game.observation_assignment_rev"
   ],
   "outputs": [
    {
     "output_type": "execute_result",
     "data": {
      "text/plain": [
       "{'STORAGE_DOUGH': 0,\n",
       " 'STORAGE_BREAD': 1,\n",
       " 'STORAGE_BUNS': 2,\n",
       " 'STORAGE_BUNS1': 3,\n",
       " 'STORAGE_BUNS2': 4,\n",
       " 'STORAGE_BUNS3': 5,\n",
       " 'DEMAND_BREAD': 6,\n",
       " 'DEMAND_BUNS1': 7,\n",
       " 'DEMAND_BUNS2': 8,\n",
       " 'DEMAND_BUNS3': 9}"
      ]
     },
     "metadata": {},
     "execution_count": 8
    }
   ],
   "metadata": {}
  },
  {
   "cell_type": "code",
   "execution_count": 14,
   "source": [
    "game.action_assignment_rev"
   ],
   "outputs": [
    {
     "output_type": "execute_result",
     "data": {
      "text/plain": [
       "{'BREAD': 0, 'BUNS1': 1, 'BUNS2': 2, 'BUNS3': 3}"
      ]
     },
     "metadata": {},
     "execution_count": 14
    }
   ],
   "metadata": {}
  },
  {
   "cell_type": "code",
   "execution_count": 10,
   "source": [
    "game.game_state = (10,0,10,10,10,10,10,10,10,10)"
   ],
   "outputs": [],
   "metadata": {}
  },
  {
   "cell_type": "code",
   "execution_count": 11,
   "source": [
    "game._get_reward()"
   ],
   "outputs": [
    {
     "output_type": "execute_result",
     "data": {
      "text/plain": [
       "-1000"
      ]
     },
     "metadata": {},
     "execution_count": 11
    }
   ],
   "metadata": {}
  },
  {
   "cell_type": "code",
   "execution_count": 13,
   "source": [
    "game._update_storage()"
   ],
   "outputs": [
    {
     "output_type": "execute_result",
     "data": {
      "text/plain": [
       "(10, 0, 10, 0, 0, 0, 10, 10, 10, 10)"
      ]
     },
     "metadata": {},
     "execution_count": 13
    }
   ],
   "metadata": {}
  },
  {
   "cell_type": "code",
   "execution_count": 13,
   "source": [
    "game.demand_dist_end_para.DDISTPARA_BUNS2"
   ],
   "outputs": [
    {
     "output_type": "execute_result",
     "data": {
      "text/plain": [
       "(1, 0.1)"
      ]
     },
     "metadata": {},
     "execution_count": 13
    }
   ],
   "metadata": {}
  },
  {
   "cell_type": "code",
   "execution_count": 14,
   "source": [
    "game.demand_dist_end_para.DDISTPARA_BREAD"
   ],
   "outputs": [
    {
     "output_type": "execute_result",
     "data": {
      "text/plain": [
       "(1, 0.1)"
      ]
     },
     "metadata": {},
     "execution_count": 14
    }
   ],
   "metadata": {}
  },
  {
   "cell_type": "code",
   "execution_count": 15,
   "source": [
    "getattr(game.demand_dist_end,\"DDIST_BREAD\")"
   ],
   "outputs": [
    {
     "output_type": "execute_result",
     "data": {
      "text/plain": [
       "'NORMAL'"
      ]
     },
     "metadata": {},
     "execution_count": 15
    }
   ],
   "metadata": {}
  },
  {
   "cell_type": "code",
   "execution_count": 25,
   "source": [
    "game.observation_space"
   ],
   "outputs": [
    {
     "output_type": "execute_result",
     "data": {
      "text/plain": [
       "Tuple(Discrete(200), Discrete(200), Discrete(200), Discrete(200), Discrete(200), Discrete(200), Discrete(200), Discrete(200), Discrete(200), Discrete(200))"
      ]
     },
     "metadata": {},
     "execution_count": 25
    }
   ],
   "metadata": {}
  },
  {
   "cell_type": "code",
   "execution_count": 22,
   "source": [
    "game.observation_assignment[\"STORAGE_DOUGH\"]"
   ],
   "outputs": [
    {
     "output_type": "error",
     "ename": "KeyError",
     "evalue": "'STORAGE_DOUGH'",
     "traceback": [
      "\u001b[0;31m---------------------------------------------------------------------------\u001b[0m",
      "\u001b[0;31mKeyError\u001b[0m                                  Traceback (most recent call last)",
      "\u001b[0;32m<ipython-input-22-700810ea6eb0>\u001b[0m in \u001b[0;36m<module>\u001b[0;34m\u001b[0m\n\u001b[0;32m----> 1\u001b[0;31m \u001b[0mgame\u001b[0m\u001b[0;34m.\u001b[0m\u001b[0mobservation_assignment\u001b[0m\u001b[0;34m[\u001b[0m\u001b[0;34m\"STORAGE_DOUGH\"\u001b[0m\u001b[0;34m]\u001b[0m\u001b[0;34m\u001b[0m\u001b[0;34m\u001b[0m\u001b[0m\n\u001b[0m",
      "\u001b[0;31mKeyError\u001b[0m: 'STORAGE_DOUGH'"
     ]
    }
   ],
   "metadata": {}
  },
  {
   "cell_type": "code",
   "execution_count": 19,
   "source": [
    "tu[0]=10"
   ],
   "outputs": [
    {
     "output_type": "error",
     "ename": "TypeError",
     "evalue": "'tuple' object does not support item assignment",
     "traceback": [
      "\u001b[0;31m---------------------------------------------------------------------------\u001b[0m",
      "\u001b[0;31mTypeError\u001b[0m                                 Traceback (most recent call last)",
      "\u001b[0;32m<ipython-input-19-b0f1eb18eb1f>\u001b[0m in \u001b[0;36m<module>\u001b[0;34m\u001b[0m\n\u001b[0;32m----> 1\u001b[0;31m \u001b[0mtu\u001b[0m\u001b[0;34m[\u001b[0m\u001b[0;36m0\u001b[0m\u001b[0;34m]\u001b[0m\u001b[0;34m=\u001b[0m\u001b[0;36m10\u001b[0m\u001b[0;34m\u001b[0m\u001b[0;34m\u001b[0m\u001b[0m\n\u001b[0m",
      "\u001b[0;31mTypeError\u001b[0m: 'tuple' object does not support item assignment"
     ]
    }
   ],
   "metadata": {}
  },
  {
   "cell_type": "code",
   "execution_count": 20,
   "source": [
    "game.LAMBDA"
   ],
   "outputs": [
    {
     "output_type": "execute_result",
     "data": {
      "text/plain": [
       "5"
      ]
     },
     "metadata": {},
     "execution_count": 20
    }
   ],
   "metadata": {}
  },
  {
   "cell_type": "code",
   "execution_count": 22,
   "source": [
    "game.observation_assignment"
   ],
   "outputs": [
    {
     "output_type": "execute_result",
     "data": {
      "text/plain": [
       "{0: 'STORAGE_DOUGH',\n",
       " 1: 'STORAGE_BREAD',\n",
       " 2: 'STORAGE_BUNS',\n",
       " 3: 'STORAGE_BUNS1',\n",
       " 4: 'STORAGE_BUNS2',\n",
       " 5: 'STORAGE_BUNS3',\n",
       " 6: 'DEMAND_BREAD',\n",
       " 7: 'DEMAND_BUNS1',\n",
       " 8: 'DEMAND_BUNS2',\n",
       " 9: 'DEMAND_BUNS3'}"
      ]
     },
     "metadata": {},
     "execution_count": 22
    }
   ],
   "metadata": {}
  },
  {
   "cell_type": "code",
   "execution_count": 26,
   "source": [
    "df"
   ],
   "outputs": [
    {
     "output_type": "execute_result",
     "data": {
      "text/plain": [
       "   PRODUCT_ID PRODUCT  STORAGE  ENDPRODUCT  MIN PROCESS_00 PROCESS_01  \\\n",
       "0           0   DOUGH       10       False  100      BREAD       BUNS   \n",
       "1           1   BREAD       10        True   70        NaN        NaN   \n",
       "2           2    BUNS       10       False   70      BUNS1      BUNS2   \n",
       "3           3   BUNS1       10        True   10        NaN        NaN   \n",
       "4           4   BUNS2       10        True   10        NaN        NaN   \n",
       "5           5   BUNS3       10        True   10        NaN        NaN   \n",
       "\n",
       "  DEMAND_DIST DIST_PARA PROCESS_02  \n",
       "0         NaN       NaN        NaN  \n",
       "1      NORMAL  (1, 0.1)        NaN  \n",
       "2         NaN       NaN      BUNS3  \n",
       "3      NORMAL  (1, 0.1)        NaN  \n",
       "4      NORMAL  (1, 0.1)        NaN  \n",
       "5      NORMAL  (1, 0.1)        NaN  "
      ],
      "text/html": [
       "<div>\n",
       "<style scoped>\n",
       "    .dataframe tbody tr th:only-of-type {\n",
       "        vertical-align: middle;\n",
       "    }\n",
       "\n",
       "    .dataframe tbody tr th {\n",
       "        vertical-align: top;\n",
       "    }\n",
       "\n",
       "    .dataframe thead th {\n",
       "        text-align: right;\n",
       "    }\n",
       "</style>\n",
       "<table border=\"1\" class=\"dataframe\">\n",
       "  <thead>\n",
       "    <tr style=\"text-align: right;\">\n",
       "      <th></th>\n",
       "      <th>PRODUCT_ID</th>\n",
       "      <th>PRODUCT</th>\n",
       "      <th>STORAGE</th>\n",
       "      <th>ENDPRODUCT</th>\n",
       "      <th>MIN</th>\n",
       "      <th>PROCESS_00</th>\n",
       "      <th>PROCESS_01</th>\n",
       "      <th>DEMAND_DIST</th>\n",
       "      <th>DIST_PARA</th>\n",
       "      <th>PROCESS_02</th>\n",
       "    </tr>\n",
       "  </thead>\n",
       "  <tbody>\n",
       "    <tr>\n",
       "      <th>0</th>\n",
       "      <td>0</td>\n",
       "      <td>DOUGH</td>\n",
       "      <td>10</td>\n",
       "      <td>False</td>\n",
       "      <td>100</td>\n",
       "      <td>BREAD</td>\n",
       "      <td>BUNS</td>\n",
       "      <td>NaN</td>\n",
       "      <td>NaN</td>\n",
       "      <td>NaN</td>\n",
       "    </tr>\n",
       "    <tr>\n",
       "      <th>1</th>\n",
       "      <td>1</td>\n",
       "      <td>BREAD</td>\n",
       "      <td>10</td>\n",
       "      <td>True</td>\n",
       "      <td>70</td>\n",
       "      <td>NaN</td>\n",
       "      <td>NaN</td>\n",
       "      <td>NORMAL</td>\n",
       "      <td>(1, 0.1)</td>\n",
       "      <td>NaN</td>\n",
       "    </tr>\n",
       "    <tr>\n",
       "      <th>2</th>\n",
       "      <td>2</td>\n",
       "      <td>BUNS</td>\n",
       "      <td>10</td>\n",
       "      <td>False</td>\n",
       "      <td>70</td>\n",
       "      <td>BUNS1</td>\n",
       "      <td>BUNS2</td>\n",
       "      <td>NaN</td>\n",
       "      <td>NaN</td>\n",
       "      <td>BUNS3</td>\n",
       "    </tr>\n",
       "    <tr>\n",
       "      <th>3</th>\n",
       "      <td>3</td>\n",
       "      <td>BUNS1</td>\n",
       "      <td>10</td>\n",
       "      <td>True</td>\n",
       "      <td>10</td>\n",
       "      <td>NaN</td>\n",
       "      <td>NaN</td>\n",
       "      <td>NORMAL</td>\n",
       "      <td>(1, 0.1)</td>\n",
       "      <td>NaN</td>\n",
       "    </tr>\n",
       "    <tr>\n",
       "      <th>4</th>\n",
       "      <td>4</td>\n",
       "      <td>BUNS2</td>\n",
       "      <td>10</td>\n",
       "      <td>True</td>\n",
       "      <td>10</td>\n",
       "      <td>NaN</td>\n",
       "      <td>NaN</td>\n",
       "      <td>NORMAL</td>\n",
       "      <td>(1, 0.1)</td>\n",
       "      <td>NaN</td>\n",
       "    </tr>\n",
       "    <tr>\n",
       "      <th>5</th>\n",
       "      <td>5</td>\n",
       "      <td>BUNS3</td>\n",
       "      <td>10</td>\n",
       "      <td>True</td>\n",
       "      <td>10</td>\n",
       "      <td>NaN</td>\n",
       "      <td>NaN</td>\n",
       "      <td>NORMAL</td>\n",
       "      <td>(1, 0.1)</td>\n",
       "      <td>NaN</td>\n",
       "    </tr>\n",
       "  </tbody>\n",
       "</table>\n",
       "</div>"
      ]
     },
     "metadata": {},
     "execution_count": 26
    }
   ],
   "metadata": {}
  },
  {
   "cell_type": "code",
   "execution_count": 46,
   "source": [
    "start_space = dict([\"STORAGE_\"+i, int(df[\"STORAGE\"][df[\"PRODUCT\"]==i])] for i in df[\"PRODUCT\"])\n",
    "liste.update(dict([\"DEMAND_\"+j, 0] for j in df[\"PRODUCT\"][df[\"ENDPRODUCT\"]]))\n",
    "liste"
   ],
   "outputs": [
    {
     "output_type": "execute_result",
     "data": {
      "text/plain": [
       "{'STORAGE_DOUGH': 10,\n",
       " 'STORAGE_BREAD': 10,\n",
       " 'STORAGE_BUNS': 10,\n",
       " 'STORAGE_BUNS1': 10,\n",
       " 'STORAGE_BUNS2': 10,\n",
       " 'STORAGE_BUNS3': 10,\n",
       " 'DEMAND_BREAD': 0,\n",
       " 'DEMAND_BUNS1': 0,\n",
       " 'DEMAND_BUNS2': 0,\n",
       " 'DEMAND_BUNS3': 0}"
      ]
     },
     "metadata": {},
     "execution_count": 46
    }
   ],
   "metadata": {}
  },
  {
   "cell_type": "code",
   "execution_count": 57,
   "source": [
    "[\"STORAGE_\"+i for i in df[\"PRODUCT\"]] + [\"DEMAND_\"+j for j in df[\"PRODUCT\"][df[\"ENDPRODUCT\"]]]"
   ],
   "outputs": [
    {
     "output_type": "execute_result",
     "data": {
      "text/plain": [
       "['STORAGE_DOUGH',\n",
       " 'STORAGE_BREAD',\n",
       " 'STORAGE_BUNS',\n",
       " 'STORAGE_BUNS1',\n",
       " 'STORAGE_BUNS2',\n",
       " 'STORAGE_BUNS3',\n",
       " 'DEMAND_BREAD',\n",
       " 'DEMAND_BUNS1',\n",
       " 'DEMAND_BUNS2',\n",
       " 'DEMAND_BUNS3']"
      ]
     },
     "metadata": {},
     "execution_count": 57
    }
   ],
   "metadata": {}
  },
  {
   "cell_type": "code",
   "execution_count": 54,
   "source": [
    "len(liste)"
   ],
   "outputs": [
    {
     "output_type": "execute_result",
     "data": {
      "text/plain": [
       "10"
      ]
     },
     "metadata": {},
     "execution_count": 54
    }
   ],
   "metadata": {}
  },
  {
   "cell_type": "code",
   "execution_count": 55,
   "source": [
    "state"
   ],
   "outputs": [
    {
     "output_type": "execute_result",
     "data": {
      "text/plain": [
       "(10, 10, 10, 10, 10, 10, 0, 0, 0, 0)"
      ]
     },
     "metadata": {},
     "execution_count": 55
    }
   ],
   "metadata": {}
  },
  {
   "cell_type": "code",
   "execution_count": null,
   "source": [],
   "outputs": [],
   "metadata": {}
  }
 ],
 "metadata": {
  "orig_nbformat": 4,
  "language_info": {
   "name": "python",
   "version": "3.8.5",
   "mimetype": "text/x-python",
   "codemirror_mode": {
    "name": "ipython",
    "version": 3
   },
   "pygments_lexer": "ipython3",
   "nbconvert_exporter": "python",
   "file_extension": ".py"
  },
  "kernelspec": {
   "name": "python3",
   "display_name": "Python 3.8.5 64-bit"
  },
  "interpreter": {
   "hash": "0adcc2737ebf6a4a119f135174df96668767fca1ef1112612db5ecadf2b6d608"
  }
 },
 "nbformat": 4,
 "nbformat_minor": 2
}
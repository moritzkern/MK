{
 "cells": [
  {
   "cell_type": "code",
   "execution_count": 1,
   "source": [
    "import numpy as np \n",
    "import pandas as pd\n"
   ],
   "outputs": [],
   "metadata": {}
  },
  {
   "cell_type": "code",
   "execution_count": 2,
   "source": [
    "df = pd.read_csv(\"/Users/andreferdinand/Desktop/MOPT/MK/gym-MK/gym_MK/envs/Products.csv\")"
   ],
   "outputs": [],
   "metadata": {}
  },
  {
   "cell_type": "code",
   "execution_count": 3,
   "source": [
    "df"
   ],
   "outputs": [
    {
     "output_type": "execute_result",
     "data": {
      "text/plain": [
       "   PRODUCT_ID PRODUCT  STORAGE  ENDPRODUCT  MIN PROCESS_00 PROCESS_01  \\\n",
       "0           0   DOUGH        0       False  100      BREAD       BUNS   \n",
       "1           1   BREAD       10        True   70        NaN        NaN   \n",
       "2           2    BUNS        0       False   70      BUNS1      BUNS2   \n",
       "3           3   BUNS1        0        True   10        NaN        NaN   \n",
       "4           4   BUNS2        0        True   10        NaN        NaN   \n",
       "5           5   BUNS3        0        True   10        NaN        NaN   \n",
       "\n",
       "  PROCESS_02  \n",
       "0        NaN  \n",
       "1        NaN  \n",
       "2      BUNS3  \n",
       "3        NaN  \n",
       "4        NaN  \n",
       "5        NaN  "
      ],
      "text/html": [
       "<div>\n",
       "<style scoped>\n",
       "    .dataframe tbody tr th:only-of-type {\n",
       "        vertical-align: middle;\n",
       "    }\n",
       "\n",
       "    .dataframe tbody tr th {\n",
       "        vertical-align: top;\n",
       "    }\n",
       "\n",
       "    .dataframe thead th {\n",
       "        text-align: right;\n",
       "    }\n",
       "</style>\n",
       "<table border=\"1\" class=\"dataframe\">\n",
       "  <thead>\n",
       "    <tr style=\"text-align: right;\">\n",
       "      <th></th>\n",
       "      <th>PRODUCT_ID</th>\n",
       "      <th>PRODUCT</th>\n",
       "      <th>STORAGE</th>\n",
       "      <th>ENDPRODUCT</th>\n",
       "      <th>MIN</th>\n",
       "      <th>PROCESS_00</th>\n",
       "      <th>PROCESS_01</th>\n",
       "      <th>PROCESS_02</th>\n",
       "    </tr>\n",
       "  </thead>\n",
       "  <tbody>\n",
       "    <tr>\n",
       "      <th>0</th>\n",
       "      <td>0</td>\n",
       "      <td>DOUGH</td>\n",
       "      <td>0</td>\n",
       "      <td>False</td>\n",
       "      <td>100</td>\n",
       "      <td>BREAD</td>\n",
       "      <td>BUNS</td>\n",
       "      <td>NaN</td>\n",
       "    </tr>\n",
       "    <tr>\n",
       "      <th>1</th>\n",
       "      <td>1</td>\n",
       "      <td>BREAD</td>\n",
       "      <td>10</td>\n",
       "      <td>True</td>\n",
       "      <td>70</td>\n",
       "      <td>NaN</td>\n",
       "      <td>NaN</td>\n",
       "      <td>NaN</td>\n",
       "    </tr>\n",
       "    <tr>\n",
       "      <th>2</th>\n",
       "      <td>2</td>\n",
       "      <td>BUNS</td>\n",
       "      <td>0</td>\n",
       "      <td>False</td>\n",
       "      <td>70</td>\n",
       "      <td>BUNS1</td>\n",
       "      <td>BUNS2</td>\n",
       "      <td>BUNS3</td>\n",
       "    </tr>\n",
       "    <tr>\n",
       "      <th>3</th>\n",
       "      <td>3</td>\n",
       "      <td>BUNS1</td>\n",
       "      <td>0</td>\n",
       "      <td>True</td>\n",
       "      <td>10</td>\n",
       "      <td>NaN</td>\n",
       "      <td>NaN</td>\n",
       "      <td>NaN</td>\n",
       "    </tr>\n",
       "    <tr>\n",
       "      <th>4</th>\n",
       "      <td>4</td>\n",
       "      <td>BUNS2</td>\n",
       "      <td>0</td>\n",
       "      <td>True</td>\n",
       "      <td>10</td>\n",
       "      <td>NaN</td>\n",
       "      <td>NaN</td>\n",
       "      <td>NaN</td>\n",
       "    </tr>\n",
       "    <tr>\n",
       "      <th>5</th>\n",
       "      <td>5</td>\n",
       "      <td>BUNS3</td>\n",
       "      <td>0</td>\n",
       "      <td>True</td>\n",
       "      <td>10</td>\n",
       "      <td>NaN</td>\n",
       "      <td>NaN</td>\n",
       "      <td>NaN</td>\n",
       "    </tr>\n",
       "  </tbody>\n",
       "</table>\n",
       "</div>"
      ]
     },
     "metadata": {},
     "execution_count": 3
    }
   ],
   "metadata": {}
  },
  {
   "cell_type": "code",
   "execution_count": 4,
   "source": [
    "class State():\n",
    "    pass\n",
    "state = State()"
   ],
   "outputs": [],
   "metadata": {}
  },
  {
   "cell_type": "code",
   "execution_count": 5,
   "source": [
    "for l,m in [[\"STORAGE_\"+i, int(df[\"STORAGE\"][df[\"PRODUCT\"]==i])] for i in df[\"PRODUCT\"]] + [[\"DEMAND_\"+j, 0] for j in df[\"PRODUCT\"][df[\"ENDPRODUCT\"]]]:\n",
    "    setattr(State,l,m)"
   ],
   "outputs": [],
   "metadata": {}
  },
  {
   "cell_type": "code",
   "execution_count": 6,
   "source": [
    "state.STORAGE_BREAD"
   ],
   "outputs": [
    {
     "output_type": "execute_result",
     "data": {
      "text/plain": [
       "10"
      ]
     },
     "metadata": {},
     "execution_count": 6
    }
   ],
   "metadata": {}
  },
  {
   "cell_type": "code",
   "execution_count": 7,
   "source": [
    "from state import State"
   ],
   "outputs": [],
   "metadata": {}
  },
  {
   "cell_type": "code",
   "execution_count": 8,
   "source": [
    "state = State()"
   ],
   "outputs": [],
   "metadata": {}
  },
  {
   "cell_type": "code",
   "execution_count": null,
   "source": [],
   "outputs": [],
   "metadata": {}
  },
  {
   "cell_type": "code",
   "execution_count": 9,
   "source": [
    "state.STORAGE_BREAD"
   ],
   "outputs": [
    {
     "output_type": "execute_result",
     "data": {
      "text/plain": [
       "10"
      ]
     },
     "metadata": {},
     "execution_count": 9
    }
   ],
   "metadata": {}
  },
  {
   "cell_type": "code",
   "execution_count": 19,
   "source": [
    "state.__dict__.keys()"
   ],
   "outputs": [
    {
     "output_type": "execute_result",
     "data": {
      "text/plain": [
       "dict_keys([])"
      ]
     },
     "metadata": {},
     "execution_count": 19
    }
   ],
   "metadata": {}
  },
  {
   "cell_type": "code",
   "execution_count": null,
   "source": [],
   "outputs": [],
   "metadata": {}
  }
 ],
 "metadata": {
  "orig_nbformat": 4,
  "language_info": {
   "name": "python",
   "version": "3.8.5",
   "mimetype": "text/x-python",
   "codemirror_mode": {
    "name": "ipython",
    "version": 3
   },
   "pygments_lexer": "ipython3",
   "nbconvert_exporter": "python",
   "file_extension": ".py"
  },
  "kernelspec": {
   "name": "python3",
   "display_name": "Python 3.8.5 64-bit"
  },
  "interpreter": {
   "hash": "0adcc2737ebf6a4a119f135174df96668767fca1ef1112612db5ecadf2b6d608"
  }
 },
 "nbformat": 4,
 "nbformat_minor": 2
}
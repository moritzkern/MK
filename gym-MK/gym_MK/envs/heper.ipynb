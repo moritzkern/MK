{
 "cells": [
  {
   "cell_type": "code",
   "execution_count": 1,
   "source": [
    "import numpy as np \n",
    "import pandas as pd\n"
   ],
   "outputs": [],
   "metadata": {}
  },
  {
   "cell_type": "code",
   "execution_count": 2,
   "source": [
    "df = pd.read_csv(\"/Users/andreferdinand/Desktop/MOPT/MK/gym-MK/gym_MK/envs/Products.csv\")"
   ],
   "outputs": [],
   "metadata": {}
  },
  {
   "cell_type": "code",
   "execution_count": 3,
   "source": [
    "df"
   ],
   "outputs": [
    {
     "output_type": "execute_result",
     "data": {
      "text/plain": [
       "   PRODUCT_ID PRODUCT  STORAGE  ENDPRODUCT  MIN PROCESS_00 PROCESS_01  \\\n",
       "0           0   DOUGH       30       False  100      BREAD       BUNS   \n",
       "1           1   BREAD       10        True   70        NaN        NaN   \n",
       "2           2    BUNS       10       False   70      BUNS1      BUNS2   \n",
       "3           3   BUNS1       10        True   10        NaN        NaN   \n",
       "4           4   BUNS2       10        True   10        NaN        NaN   \n",
       "5           5   BUNS3       10        True   10        NaN        NaN   \n",
       "\n",
       "  DEMAND_DIST DIST_PARA PROCESS_02  \n",
       "0         NaN       NaN        NaN  \n",
       "1      NORMAL  (1, 0.1)        NaN  \n",
       "2         NaN       NaN      BUNS3  \n",
       "3      NORMAL  (1, 0.1)        NaN  \n",
       "4      NORMAL  (1, 0.1)        NaN  \n",
       "5      NORMAL  (1, 0.1)        NaN  "
      ],
      "text/html": [
       "<div>\n",
       "<style scoped>\n",
       "    .dataframe tbody tr th:only-of-type {\n",
       "        vertical-align: middle;\n",
       "    }\n",
       "\n",
       "    .dataframe tbody tr th {\n",
       "        vertical-align: top;\n",
       "    }\n",
       "\n",
       "    .dataframe thead th {\n",
       "        text-align: right;\n",
       "    }\n",
       "</style>\n",
       "<table border=\"1\" class=\"dataframe\">\n",
       "  <thead>\n",
       "    <tr style=\"text-align: right;\">\n",
       "      <th></th>\n",
       "      <th>PRODUCT_ID</th>\n",
       "      <th>PRODUCT</th>\n",
       "      <th>STORAGE</th>\n",
       "      <th>ENDPRODUCT</th>\n",
       "      <th>MIN</th>\n",
       "      <th>PROCESS_00</th>\n",
       "      <th>PROCESS_01</th>\n",
       "      <th>DEMAND_DIST</th>\n",
       "      <th>DIST_PARA</th>\n",
       "      <th>PROCESS_02</th>\n",
       "    </tr>\n",
       "  </thead>\n",
       "  <tbody>\n",
       "    <tr>\n",
       "      <th>0</th>\n",
       "      <td>0</td>\n",
       "      <td>DOUGH</td>\n",
       "      <td>30</td>\n",
       "      <td>False</td>\n",
       "      <td>100</td>\n",
       "      <td>BREAD</td>\n",
       "      <td>BUNS</td>\n",
       "      <td>NaN</td>\n",
       "      <td>NaN</td>\n",
       "      <td>NaN</td>\n",
       "    </tr>\n",
       "    <tr>\n",
       "      <th>1</th>\n",
       "      <td>1</td>\n",
       "      <td>BREAD</td>\n",
       "      <td>10</td>\n",
       "      <td>True</td>\n",
       "      <td>70</td>\n",
       "      <td>NaN</td>\n",
       "      <td>NaN</td>\n",
       "      <td>NORMAL</td>\n",
       "      <td>(1, 0.1)</td>\n",
       "      <td>NaN</td>\n",
       "    </tr>\n",
       "    <tr>\n",
       "      <th>2</th>\n",
       "      <td>2</td>\n",
       "      <td>BUNS</td>\n",
       "      <td>10</td>\n",
       "      <td>False</td>\n",
       "      <td>70</td>\n",
       "      <td>BUNS1</td>\n",
       "      <td>BUNS2</td>\n",
       "      <td>NaN</td>\n",
       "      <td>NaN</td>\n",
       "      <td>BUNS3</td>\n",
       "    </tr>\n",
       "    <tr>\n",
       "      <th>3</th>\n",
       "      <td>3</td>\n",
       "      <td>BUNS1</td>\n",
       "      <td>10</td>\n",
       "      <td>True</td>\n",
       "      <td>10</td>\n",
       "      <td>NaN</td>\n",
       "      <td>NaN</td>\n",
       "      <td>NORMAL</td>\n",
       "      <td>(1, 0.1)</td>\n",
       "      <td>NaN</td>\n",
       "    </tr>\n",
       "    <tr>\n",
       "      <th>4</th>\n",
       "      <td>4</td>\n",
       "      <td>BUNS2</td>\n",
       "      <td>10</td>\n",
       "      <td>True</td>\n",
       "      <td>10</td>\n",
       "      <td>NaN</td>\n",
       "      <td>NaN</td>\n",
       "      <td>NORMAL</td>\n",
       "      <td>(1, 0.1)</td>\n",
       "      <td>NaN</td>\n",
       "    </tr>\n",
       "    <tr>\n",
       "      <th>5</th>\n",
       "      <td>5</td>\n",
       "      <td>BUNS3</td>\n",
       "      <td>10</td>\n",
       "      <td>True</td>\n",
       "      <td>10</td>\n",
       "      <td>NaN</td>\n",
       "      <td>NaN</td>\n",
       "      <td>NORMAL</td>\n",
       "      <td>(1, 0.1)</td>\n",
       "      <td>NaN</td>\n",
       "    </tr>\n",
       "  </tbody>\n",
       "</table>\n",
       "</div>"
      ]
     },
     "metadata": {},
     "execution_count": 3
    }
   ],
   "metadata": {}
  },
  {
   "cell_type": "code",
   "execution_count": 4,
   "source": [
    "from helper_stats import min_prod, state\n",
    "min_product = min_prod()\n",
    "game_state =state()"
   ],
   "outputs": [],
   "metadata": {}
  },
  {
   "cell_type": "code",
   "execution_count": 5,
   "source": [
    "game_state"
   ],
   "outputs": [
    {
     "output_type": "execute_result",
     "data": {
      "text/plain": [
       "<helper_stats.state at 0x7f8953d4ae20>"
      ]
     },
     "metadata": {},
     "execution_count": 5
    }
   ],
   "metadata": {}
  },
  {
   "cell_type": "code",
   "execution_count": 6,
   "source": [
    "from MK_env2 import MKEnv"
   ],
   "outputs": [],
   "metadata": {}
  },
  {
   "cell_type": "code",
   "execution_count": 7,
   "source": [
    "game = MKEnv()"
   ],
   "outputs": [],
   "metadata": {}
  },
  {
   "cell_type": "code",
   "execution_count": 8,
   "source": [
    "game.observation_assignment_rev"
   ],
   "outputs": [
    {
     "output_type": "execute_result",
     "data": {
      "text/plain": [
       "{'STORAGE_DOUGH': 0,\n",
       " 'STORAGE_BREAD': 1,\n",
       " 'STORAGE_BUNS': 2,\n",
       " 'STORAGE_BUNS1': 3,\n",
       " 'STORAGE_BUNS2': 4,\n",
       " 'STORAGE_BUNS3': 5,\n",
       " 'DEMAND_BREAD': 6,\n",
       " 'DEMAND_BUNS1': 7,\n",
       " 'DEMAND_BUNS2': 8,\n",
       " 'DEMAND_BUNS3': 9}"
      ]
     },
     "metadata": {},
     "execution_count": 8
    }
   ],
   "metadata": {}
  },
  {
   "cell_type": "code",
   "execution_count": 9,
   "source": [
    "game.action_assignment_rev"
   ],
   "outputs": [
    {
     "output_type": "execute_result",
     "data": {
      "text/plain": [
       "{'BREAD': 0, 'BUNS1': 1, 'BUNS2': 2, 'BUNS3': 3}"
      ]
     },
     "metadata": {},
     "execution_count": 9
    }
   ],
   "metadata": {}
  },
  {
   "cell_type": "code",
   "execution_count": 10,
   "source": [
    "game.game_state "
   ],
   "outputs": [
    {
     "output_type": "execute_result",
     "data": {
      "text/plain": [
       "(30, 10, 10, 10, 10, 10, 0, 0, 0, 0)"
      ]
     },
     "metadata": {},
     "execution_count": 10
    }
   ],
   "metadata": {}
  },
  {
   "cell_type": "code",
   "execution_count": 11,
   "source": [
    "game._get_prod((10,10,10,10))"
   ],
   "outputs": [
    {
     "output_type": "execute_result",
     "data": {
      "text/plain": [
       "(50, 20, 60, 20, 20, 20, 0, 0, 0, 0)"
      ]
     },
     "metadata": {},
     "execution_count": 11
    }
   ],
   "metadata": {}
  },
  {
   "cell_type": "code",
   "execution_count": 19,
   "source": [
    "game.observation_assignment_rev"
   ],
   "outputs": [
    {
     "output_type": "execute_result",
     "data": {
      "text/plain": [
       "{'STORAGE_DOUGH': 0,\n",
       " 'STORAGE_BREAD': 1,\n",
       " 'STORAGE_BUNS': 2,\n",
       " 'STORAGE_BUNS1': 3,\n",
       " 'STORAGE_BUNS2': 4,\n",
       " 'STORAGE_BUNS3': 5,\n",
       " 'DEMAND_BREAD': 6,\n",
       " 'DEMAND_BUNS1': 7,\n",
       " 'DEMAND_BUNS2': 8,\n",
       " 'DEMAND_BUNS3': 9}"
      ]
     },
     "metadata": {},
     "execution_count": 19
    }
   ],
   "metadata": {}
  },
  {
   "cell_type": "code",
   "execution_count": 18,
   "source": [
    "df"
   ],
   "outputs": [
    {
     "output_type": "execute_result",
     "data": {
      "text/plain": [
       "   PRODUCT_ID PRODUCT  STORAGE  ENDPRODUCT  MIN PROCESS_00 PROCESS_01  \\\n",
       "0           0   DOUGH       30       False  100      BREAD       BUNS   \n",
       "1           1   BREAD       10        True   70        NaN        NaN   \n",
       "2           2    BUNS       10       False   70      BUNS1      BUNS2   \n",
       "3           3   BUNS1       10        True   10        NaN        NaN   \n",
       "4           4   BUNS2       10        True   10        NaN        NaN   \n",
       "5           5   BUNS3       10        True   10        NaN        NaN   \n",
       "\n",
       "  DEMAND_DIST DIST_PARA PROCESS_02  \n",
       "0         NaN       NaN        NaN  \n",
       "1      NORMAL  (1, 0.1)        NaN  \n",
       "2         NaN       NaN      BUNS3  \n",
       "3      NORMAL  (1, 0.1)        NaN  \n",
       "4      NORMAL  (1, 0.1)        NaN  \n",
       "5      NORMAL  (1, 0.1)        NaN  "
      ],
      "text/html": [
       "<div>\n",
       "<style scoped>\n",
       "    .dataframe tbody tr th:only-of-type {\n",
       "        vertical-align: middle;\n",
       "    }\n",
       "\n",
       "    .dataframe tbody tr th {\n",
       "        vertical-align: top;\n",
       "    }\n",
       "\n",
       "    .dataframe thead th {\n",
       "        text-align: right;\n",
       "    }\n",
       "</style>\n",
       "<table border=\"1\" class=\"dataframe\">\n",
       "  <thead>\n",
       "    <tr style=\"text-align: right;\">\n",
       "      <th></th>\n",
       "      <th>PRODUCT_ID</th>\n",
       "      <th>PRODUCT</th>\n",
       "      <th>STORAGE</th>\n",
       "      <th>ENDPRODUCT</th>\n",
       "      <th>MIN</th>\n",
       "      <th>PROCESS_00</th>\n",
       "      <th>PROCESS_01</th>\n",
       "      <th>DEMAND_DIST</th>\n",
       "      <th>DIST_PARA</th>\n",
       "      <th>PROCESS_02</th>\n",
       "    </tr>\n",
       "  </thead>\n",
       "  <tbody>\n",
       "    <tr>\n",
       "      <th>0</th>\n",
       "      <td>0</td>\n",
       "      <td>DOUGH</td>\n",
       "      <td>30</td>\n",
       "      <td>False</td>\n",
       "      <td>100</td>\n",
       "      <td>BREAD</td>\n",
       "      <td>BUNS</td>\n",
       "      <td>NaN</td>\n",
       "      <td>NaN</td>\n",
       "      <td>NaN</td>\n",
       "    </tr>\n",
       "    <tr>\n",
       "      <th>1</th>\n",
       "      <td>1</td>\n",
       "      <td>BREAD</td>\n",
       "      <td>10</td>\n",
       "      <td>True</td>\n",
       "      <td>70</td>\n",
       "      <td>NaN</td>\n",
       "      <td>NaN</td>\n",
       "      <td>NORMAL</td>\n",
       "      <td>(1, 0.1)</td>\n",
       "      <td>NaN</td>\n",
       "    </tr>\n",
       "    <tr>\n",
       "      <th>2</th>\n",
       "      <td>2</td>\n",
       "      <td>BUNS</td>\n",
       "      <td>10</td>\n",
       "      <td>False</td>\n",
       "      <td>70</td>\n",
       "      <td>BUNS1</td>\n",
       "      <td>BUNS2</td>\n",
       "      <td>NaN</td>\n",
       "      <td>NaN</td>\n",
       "      <td>BUNS3</td>\n",
       "    </tr>\n",
       "    <tr>\n",
       "      <th>3</th>\n",
       "      <td>3</td>\n",
       "      <td>BUNS1</td>\n",
       "      <td>10</td>\n",
       "      <td>True</td>\n",
       "      <td>10</td>\n",
       "      <td>NaN</td>\n",
       "      <td>NaN</td>\n",
       "      <td>NORMAL</td>\n",
       "      <td>(1, 0.1)</td>\n",
       "      <td>NaN</td>\n",
       "    </tr>\n",
       "    <tr>\n",
       "      <th>4</th>\n",
       "      <td>4</td>\n",
       "      <td>BUNS2</td>\n",
       "      <td>10</td>\n",
       "      <td>True</td>\n",
       "      <td>10</td>\n",
       "      <td>NaN</td>\n",
       "      <td>NaN</td>\n",
       "      <td>NORMAL</td>\n",
       "      <td>(1, 0.1)</td>\n",
       "      <td>NaN</td>\n",
       "    </tr>\n",
       "    <tr>\n",
       "      <th>5</th>\n",
       "      <td>5</td>\n",
       "      <td>BUNS3</td>\n",
       "      <td>10</td>\n",
       "      <td>True</td>\n",
       "      <td>10</td>\n",
       "      <td>NaN</td>\n",
       "      <td>NaN</td>\n",
       "      <td>NORMAL</td>\n",
       "      <td>(1, 0.1)</td>\n",
       "      <td>NaN</td>\n",
       "    </tr>\n",
       "  </tbody>\n",
       "</table>\n",
       "</div>"
      ]
     },
     "metadata": {},
     "execution_count": 18
    }
   ],
   "metadata": {}
  },
  {
   "cell_type": "code",
   "execution_count": 46,
   "source": [
    "start_space = dict([\"STORAGE_\"+i, int(df[\"STORAGE\"][df[\"PRODUCT\"]==i])] for i in df[\"PRODUCT\"])\n",
    "liste.update(dict([\"DEMAND_\"+j, 0] for j in df[\"PRODUCT\"][df[\"ENDPRODUCT\"]]))\n",
    "liste"
   ],
   "outputs": [
    {
     "output_type": "execute_result",
     "data": {
      "text/plain": [
       "{'STORAGE_DOUGH': 10,\n",
       " 'STORAGE_BREAD': 10,\n",
       " 'STORAGE_BUNS': 10,\n",
       " 'STORAGE_BUNS1': 10,\n",
       " 'STORAGE_BUNS2': 10,\n",
       " 'STORAGE_BUNS3': 10,\n",
       " 'DEMAND_BREAD': 0,\n",
       " 'DEMAND_BUNS1': 0,\n",
       " 'DEMAND_BUNS2': 0,\n",
       " 'DEMAND_BUNS3': 0}"
      ]
     },
     "metadata": {},
     "execution_count": 46
    }
   ],
   "metadata": {}
  },
  {
   "cell_type": "code",
   "execution_count": 59,
   "source": [
    "dependencies_dict = dict()"
   ],
   "outputs": [],
   "metadata": {}
  },
  {
   "cell_type": "code",
   "execution_count": 77,
   "source": [
    "dependencies_dict = dict()\n",
    "gen = (j for j in df.columns if j.startswith(\"PROCESS\"))\n",
    "for j in gen:\n",
    "    print(j)\n",
    "    "
   ],
   "outputs": [
    {
     "output_type": "stream",
     "name": "stdout",
     "text": [
      "PROCESS_00\n",
      "PROCESS_01\n",
      "PROCESS_02\n"
     ]
    }
   ],
   "metadata": {}
  },
  {
   "cell_type": "code",
   "execution_count": 161,
   "source": [
    "dependencies_dict = dict()\n",
    "gen = (j for j in df.columns if j.startswith(\"PROCESS\"))\n",
    "for j in gen:\n",
    "    dependencies_dict.update(pd.Series(df[df[j].notnull()].PRODUCT.values,index=getattr(df[df[j].notnull()],j)).to_dict())\n",
    "    "
   ],
   "outputs": [],
   "metadata": {}
  },
  {
   "cell_type": "code",
   "execution_count": 162,
   "source": [
    "dependencies_dict"
   ],
   "outputs": [
    {
     "output_type": "execute_result",
     "data": {
      "text/plain": [
       "{'BREAD': 'DOUGH',\n",
       " 'BUNS1': 'BUNS',\n",
       " 'BUNS': 'DOUGH',\n",
       " 'BUNS2': 'BUNS',\n",
       " 'BUNS3': 'BUNS'}"
      ]
     },
     "metadata": {},
     "execution_count": 162
    }
   ],
   "metadata": {}
  },
  {
   "cell_type": "code",
   "execution_count": 211,
   "source": [
    "import copy\n",
    "dependencies_dict_copy = copy.deepcopy(dependencies_dict)\n",
    "action = (10,10,10,10)\n",
    "liste = list(game.game_state)\n",
    "action_dict = dict([[j,0] for j in df[\"PRODUCT\"][~df[\"ENDPRODUCT\"]]])\n",
    "for i in game.endproducts:\n",
    "            liste[game.observation_assignment_rev[\"STORAGE_\"+i]] += action[game.action_assignment_rev[i]]\n",
    "            action_dict[dependencies_dict[i]] += action[game.action_assignment_rev[i]]\n",
    "            dependencies_dict_copy.pop(i)"
   ],
   "outputs": [],
   "metadata": {}
  },
  {
   "cell_type": "code",
   "execution_count": 212,
   "source": [
    "action_dict"
   ],
   "outputs": [
    {
     "output_type": "execute_result",
     "data": {
      "text/plain": [
       "{'DOUGH': 10, 'BUNS': 30}"
      ]
     },
     "metadata": {},
     "execution_count": 212
    }
   ],
   "metadata": {}
  },
  {
   "cell_type": "code",
   "execution_count": 213,
   "source": [
    "notfin = [j for j in df[\"PRODUCT\"][~df[\"ENDPRODUCT\"]]]\n",
    "print(notfin)\n",
    "while notfin:\n",
    "    print(notfin)\n",
    "    while list(set(notfin)-set(list(dependencies_dict_copy.values()))):\n",
    "        print(dependencies_dict_copy)\n",
    "        for j in list(set(notfin)-set(list(dependencies_dict_copy.values()))):\n",
    "            print(action_dict[j])\n",
    "            print(liste[game.observation_assignment_rev[\"STORAGE_\"+j]])\n",
    "            print(j)\n",
    "            if liste[game.observation_assignment_rev[\"STORAGE_\"+j]]>=action_dict[j]:\n",
    "                liste[game.observation_assignment_rev[\"STORAGE_\"+j]] -= action_dict[j]\n",
    "            else:\n",
    "                try:\n",
    "                    action_dict[dependencies_dict_copy[j]] += max(action_dict[j]-liste[game.observation_assignment_rev[\"STORAGE_\"+j]], getattr(game.min_product,\"MIN_\"+j))\n",
    "                    liste[game.observation_assignment_rev[\"STORAGE_\"+j]] += -action_dict[j] + action_dict[dependencies_dict_copy[j]]\n",
    "                except:\n",
    "                    liste[game.observation_assignment_rev[\"STORAGE_\"+j]] += -action_dict[j] + max(action_dict[j]-liste[game.observation_assignment_rev[\"STORAGE_\"+j]],getattr(game.min_product,\"MIN_\"+j))  \n",
    "            notfin.remove(j)\n",
    "            try: \n",
    "                dependencies_dict_copy.pop(j)\n",
    "            except:\n",
    "                pass"
   ],
   "outputs": [
    {
     "output_type": "stream",
     "name": "stdout",
     "text": [
      "['DOUGH', 'BUNS']\n",
      "['DOUGH', 'BUNS']\n",
      "{'BUNS': 'DOUGH'}\n",
      "30\n",
      "10\n",
      "BUNS\n",
      "['DOUGH']\n",
      "{}\n",
      "{}\n",
      "80\n",
      "30\n",
      "DOUGH\n",
      "[]\n",
      "{}\n"
     ]
    }
   ],
   "metadata": {}
  },
  {
   "cell_type": "code",
   "execution_count": 215,
   "source": [
    "print(liste)\n",
    "action"
   ],
   "outputs": [
    {
     "output_type": "stream",
     "name": "stdout",
     "text": [
      "[50, 20, 60, 20, 20, 20, 0, 0, 0, 0]\n"
     ]
    },
    {
     "output_type": "execute_result",
     "data": {
      "text/plain": [
       "(10, 10, 10, 10)"
      ]
     },
     "metadata": {},
     "execution_count": 215
    }
   ],
   "metadata": {}
  },
  {
   "cell_type": "code",
   "execution_count": 176,
   "source": [
    "list(dict_new.values())"
   ],
   "outputs": [
    {
     "output_type": "execute_result",
     "data": {
      "text/plain": [
       "['DOUGH']"
      ]
     },
     "metadata": {},
     "execution_count": 176
    }
   ],
   "metadata": {}
  },
  {
   "cell_type": "code",
   "execution_count": 177,
   "source": [
    "notfin"
   ],
   "outputs": [
    {
     "output_type": "execute_result",
     "data": {
      "text/plain": [
       "['DOUGH', 'BUNS']"
      ]
     },
     "metadata": {},
     "execution_count": 177
    }
   ],
   "metadata": {}
  },
  {
   "cell_type": "code",
   "execution_count": 178,
   "source": [
    "list(set(notfin)-set(list(dict_new.values())))"
   ],
   "outputs": [
    {
     "output_type": "execute_result",
     "data": {
      "text/plain": [
       "['BUNS']"
      ]
     },
     "metadata": {},
     "execution_count": 178
    }
   ],
   "metadata": {}
  },
  {
   "cell_type": "code",
   "execution_count": null,
   "source": [],
   "outputs": [],
   "metadata": {}
  }
 ],
 "metadata": {
  "orig_nbformat": 4,
  "language_info": {
   "name": "python",
   "version": "3.8.5",
   "mimetype": "text/x-python",
   "codemirror_mode": {
    "name": "ipython",
    "version": 3
   },
   "pygments_lexer": "ipython3",
   "nbconvert_exporter": "python",
   "file_extension": ".py"
  },
  "kernelspec": {
   "name": "python3",
   "display_name": "Python 3.8.5 64-bit"
  },
  "interpreter": {
   "hash": "0adcc2737ebf6a4a119f135174df96668767fca1ef1112612db5ecadf2b6d608"
  }
 },
 "nbformat": 4,
 "nbformat_minor": 2
}